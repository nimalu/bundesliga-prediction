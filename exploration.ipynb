{
 "cells": [
  {
   "cell_type": "code",
   "execution_count": 53,
   "metadata": {},
   "outputs": [],
   "source": [
    "import pandas as pd\n",
    "import matplotlib.pyplot as plt\n",
    "\n",
    "pd.set_option(\"display.max.columns\", None)\n",
    "pd.set_option(\"display.precision\", 2)\n"
   ]
  },
  {
   "cell_type": "code",
   "execution_count": 54,
   "metadata": {},
   "outputs": [],
   "source": [
    "df_matches = pd.read_csv(\"matches.csv\", index_col=\"id\")\n",
    "df_teams = pd.read_csv(\"teams.csv\", index_col=\"team\")"
   ]
  },
  {
   "cell_type": "markdown",
   "metadata": {},
   "source": [
    "# Matches"
   ]
  },
  {
   "cell_type": "code",
   "execution_count": 55,
   "metadata": {},
   "outputs": [
    {
     "name": "stdout",
     "output_type": "stream",
     "text": [
      "<class 'pandas.core.frame.DataFrame'>\n",
      "Index: 4284 entries, 9998 to 66936\n",
      "Data columns (total 15 columns):\n",
      " #   Column        Non-Null Count  Dtype \n",
      "---  ------        --------------  ----- \n",
      " 0   date          4284 non-null   object\n",
      " 1   matchDay      4284 non-null   object\n",
      " 2   matchDayID    4284 non-null   int64 \n",
      " 3   leagueID      4284 non-null   int64 \n",
      " 4   leagueName    4284 non-null   object\n",
      " 5   leagueSeason  4284 non-null   int64 \n",
      " 6   team1ID       4284 non-null   int64 \n",
      " 7   team1Name     4284 non-null   object\n",
      " 8   team1Short    4250 non-null   object\n",
      " 9   team2ID       4284 non-null   int64 \n",
      " 10  team2Name     4284 non-null   object\n",
      " 11  team2Short    4250 non-null   object\n",
      " 12  team1Goals    4284 non-null   int64 \n",
      " 13  team2Goals    4284 non-null   int64 \n",
      " 14  result        4284 non-null   object\n",
      "dtypes: int64(7), object(8)\n",
      "memory usage: 535.5+ KB\n"
     ]
    }
   ],
   "source": [
    "df_matches.info()"
   ]
  },
  {
   "cell_type": "markdown",
   "metadata": {},
   "source": [
    "shortName seems to have _na_ values"
   ]
  },
  {
   "cell_type": "code",
   "execution_count": 56,
   "metadata": {},
   "outputs": [
    {
     "data": {
      "text/plain": [
       "team1Name\n",
       "TSG 1899 Hoffenheim    34\n",
       "Name: count, dtype: int64"
      ]
     },
     "execution_count": 56,
     "metadata": {},
     "output_type": "execute_result"
    }
   ],
   "source": [
    "df_matches.loc[df_matches[\"team1Short\"].isna(), \"team1Name\"].value_counts()"
   ]
  },
  {
   "cell_type": "code",
   "execution_count": 57,
   "metadata": {},
   "outputs": [
    {
     "data": {
      "text/plain": [
       "date            False\n",
       "matchDay        False\n",
       "matchDayID      False\n",
       "leagueID        False\n",
       "leagueName      False\n",
       "leagueSeason    False\n",
       "team1ID         False\n",
       "team1Name       False\n",
       "team1Short      False\n",
       "team2ID         False\n",
       "team2Name       False\n",
       "team2Short      False\n",
       "team1Goals      False\n",
       "team2Goals      False\n",
       "result          False\n",
       "dtype: bool"
      ]
     },
     "execution_count": 57,
     "metadata": {},
     "output_type": "execute_result"
    }
   ],
   "source": [
    "df_matches.loc[df_matches[\"team1Name\"] == \"TSG 1899 Hoffenheim\", \"team1Short\"] = \"Hoffenheim\"\n",
    "df_matches.loc[df_matches[\"team2Name\"] == \"TSG 1899 Hoffenheim\", \"team2Short\"] = \"Hoffenheim\"\n",
    "\n",
    "df_matches.to_csv(\"matches.csv\")\n",
    "df_matches.isna().any()"
   ]
  },
  {
   "cell_type": "code",
   "execution_count": 58,
   "metadata": {},
   "outputs": [
    {
     "data": {
      "text/html": [
       "<div>\n",
       "<style scoped>\n",
       "    .dataframe tbody tr th:only-of-type {\n",
       "        vertical-align: middle;\n",
       "    }\n",
       "\n",
       "    .dataframe tbody tr th {\n",
       "        vertical-align: top;\n",
       "    }\n",
       "\n",
       "    .dataframe thead th {\n",
       "        text-align: right;\n",
       "    }\n",
       "</style>\n",
       "<table border=\"1\" class=\"dataframe\">\n",
       "  <thead>\n",
       "    <tr style=\"text-align: right;\">\n",
       "      <th></th>\n",
       "      <th>matchDayID</th>\n",
       "      <th>leagueID</th>\n",
       "      <th>leagueSeason</th>\n",
       "      <th>team1ID</th>\n",
       "      <th>team2ID</th>\n",
       "      <th>team1Goals</th>\n",
       "      <th>team2Goals</th>\n",
       "    </tr>\n",
       "  </thead>\n",
       "  <tbody>\n",
       "    <tr>\n",
       "      <th>count</th>\n",
       "      <td>4284.00</td>\n",
       "      <td>4284.00</td>\n",
       "      <td>4284.00</td>\n",
       "      <td>4284.00</td>\n",
       "      <td>4284.00</td>\n",
       "      <td>4284.00</td>\n",
       "      <td>4284.00</td>\n",
       "    </tr>\n",
       "    <tr>\n",
       "      <th>mean</th>\n",
       "      <td>17.50</td>\n",
       "      <td>2644.36</td>\n",
       "      <td>2016.50</td>\n",
       "      <td>127.91</td>\n",
       "      <td>127.91</td>\n",
       "      <td>1.69</td>\n",
       "      <td>1.32</td>\n",
       "    </tr>\n",
       "    <tr>\n",
       "      <th>std</th>\n",
       "      <td>9.81</td>\n",
       "      <td>1883.83</td>\n",
       "      <td>4.03</td>\n",
       "      <td>277.17</td>\n",
       "      <td>277.17</td>\n",
       "      <td>1.38</td>\n",
       "      <td>1.22</td>\n",
       "    </tr>\n",
       "    <tr>\n",
       "      <th>min</th>\n",
       "      <td>1.00</td>\n",
       "      <td>159.00</td>\n",
       "      <td>2010.00</td>\n",
       "      <td>6.00</td>\n",
       "      <td>6.00</td>\n",
       "      <td>0.00</td>\n",
       "      <td>0.00</td>\n",
       "    </tr>\n",
       "    <tr>\n",
       "      <th>25%</th>\n",
       "      <td>9.00</td>\n",
       "      <td>623.00</td>\n",
       "      <td>2013.00</td>\n",
       "      <td>40.00</td>\n",
       "      <td>40.00</td>\n",
       "      <td>1.00</td>\n",
       "      <td>0.00</td>\n",
       "    </tr>\n",
       "    <tr>\n",
       "      <th>50%</th>\n",
       "      <td>17.50</td>\n",
       "      <td>3579.00</td>\n",
       "      <td>2016.50</td>\n",
       "      <td>83.00</td>\n",
       "      <td>83.00</td>\n",
       "      <td>1.00</td>\n",
       "      <td>1.00</td>\n",
       "    </tr>\n",
       "    <tr>\n",
       "      <th>75%</th>\n",
       "      <td>26.00</td>\n",
       "      <td>4442.00</td>\n",
       "      <td>2020.00</td>\n",
       "      <td>112.75</td>\n",
       "      <td>112.75</td>\n",
       "      <td>2.00</td>\n",
       "      <td>2.00</td>\n",
       "    </tr>\n",
       "    <tr>\n",
       "      <th>max</th>\n",
       "      <td>34.00</td>\n",
       "      <td>4608.00</td>\n",
       "      <td>2023.00</td>\n",
       "      <td>1635.00</td>\n",
       "      <td>1635.00</td>\n",
       "      <td>9.00</td>\n",
       "      <td>8.00</td>\n",
       "    </tr>\n",
       "  </tbody>\n",
       "</table>\n",
       "</div>"
      ],
      "text/plain": [
       "       matchDayID  leagueID  leagueSeason  team1ID  team2ID  team1Goals  \\\n",
       "count     4284.00   4284.00       4284.00  4284.00  4284.00     4284.00   \n",
       "mean        17.50   2644.36       2016.50   127.91   127.91        1.69   \n",
       "std          9.81   1883.83          4.03   277.17   277.17        1.38   \n",
       "min          1.00    159.00       2010.00     6.00     6.00        0.00   \n",
       "25%          9.00    623.00       2013.00    40.00    40.00        1.00   \n",
       "50%         17.50   3579.00       2016.50    83.00    83.00        1.00   \n",
       "75%         26.00   4442.00       2020.00   112.75   112.75        2.00   \n",
       "max         34.00   4608.00       2023.00  1635.00  1635.00        9.00   \n",
       "\n",
       "       team2Goals  \n",
       "count     4284.00  \n",
       "mean         1.32  \n",
       "std          1.22  \n",
       "min          0.00  \n",
       "25%          0.00  \n",
       "50%          1.00  \n",
       "75%          2.00  \n",
       "max          8.00  "
      ]
     },
     "execution_count": 58,
     "metadata": {},
     "output_type": "execute_result"
    }
   ],
   "source": [
    "df_matches.describe()"
   ]
  },
  {
   "cell_type": "code",
   "execution_count": 59,
   "metadata": {},
   "outputs": [
    {
     "data": {
      "image/png": "[encoded data removed]",
      "text/plain": [
       "<Figure size 1200x400 with 1 Axes>"
      ]
     },
     "metadata": {},
     "output_type": "display_data"
    }
   ],
   "source": [
    "matches_per_team = {}\n",
    "for name, n_matches in df_matches[\"team1Short\"].value_counts().to_dict().items():\n",
    "    matches_per_team[name] = n_matches\n",
    "\n",
    "for name, n_matches in df_matches[\"team2Short\"].value_counts().to_dict().items():\n",
    "    if name not in matches_per_team:\n",
    "        matches_per_team[name] = 0\n",
    "    matches_per_team[name] += n_matches\n",
    "\n",
    "fig, ax = plt.subplots(figsize=(12, 4))\n",
    "ax.set_title(\"Number of matches per team\")\n",
    "ax.bar(matches_per_team.keys(), matches_per_team.values())\n",
    "ax.set_xticks(range(len(matches_per_team.keys())), matches_per_team.keys(), rotation=90, ha='center')\n",
    "!"
   ]
  },
  {
   "cell_type": "markdown",
   "metadata": {},
   "source": [
    "# Teams"
   ]
  },
  {
   "cell_type": "code",
   "execution_count": 60,
   "metadata": {},
   "outputs": [
    {
     "name": "stdout",
     "output_type": "stream",
     "text": [
      "<class 'pandas.core.frame.DataFrame'>\n",
      "Index: 252 entries, 6 to 1635\n",
      "Data columns (total 9 columns):\n",
      " #   Column         Non-Null Count  Dtype  \n",
      "---  ------         --------------  -----  \n",
      " 0   year           252 non-null    int64  \n",
      " 1   draw           252 non-null    float64\n",
      " 2   goalDiff       252 non-null    float64\n",
      " 3   goals          252 non-null    float64\n",
      " 4   lost           252 non-null    float64\n",
      " 5   matches        252 non-null    float64\n",
      " 6   opponentGoals  252 non-null    float64\n",
      " 7   points         252 non-null    float64\n",
      " 8   won            252 non-null    float64\n",
      "dtypes: float64(8), int64(1)\n",
      "memory usage: 19.7 KB\n"
     ]
    }
   ],
   "source": [
    "df_teams.info()"
   ]
  }
 ],
 "metadata": {
  "kernelspec": {
   "display_name": ".env",
   "language": "python",
   "name": "python3"
  },
  "language_info": {
   "codemirror_mode": {
    "name": "ipython",
    "version": 3
   },
   "file_extension": ".py",
   "mimetype": "text/x-python",
   "name": "python",
   "nbconvert_exporter": "python",
   "pygments_lexer": "ipython3",
   "version": "3.12.5"
  }
 },
 "nbformat": 4,
 "nbformat_minor": 2
}
