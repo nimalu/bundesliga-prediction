{
 "cells": [
  {
   "cell_type": "markdown",
   "metadata": {},
   "source": [
    "# Data Acquisition\n",
    "\n",
    "This notebook downloads the data from the _OpenLigaDB_ API and prepares pandas dataframes.\n",
    "The data consists of two types:\n",
    "- matches\n",
    "- tables"
   ]
  },
  {
   "cell_type": "code",
   "execution_count": 1,
   "metadata": {},
   "outputs": [],
   "source": [
    "import requests\n",
    "import json\n",
    "from tqdm.notebook import trange\n",
    "import os\n",
    "\n",
    "os.makedirs(\"data\", exist_ok=True)"
   ]
  },
  {
   "cell_type": "markdown",
   "metadata": {},
   "source": [
    "### Download matches"
   ]
  },
  {
   "cell_type": "code",
   "execution_count": 2,
   "metadata": {},
   "outputs": [
    {
     "data": {
      "application/vnd.jupyter.widget-view+json": {
       "model_id": "4723caf7b9b0403aa66c89cb56e22c7c",
       "version_major": 2,
       "version_minor": 0
      },
      "text/plain": [
       "  0%|          | 0/15 [00:00<?, ?it/s]"
      ]
     },
     "metadata": {},
     "output_type": "display_data"
    },
    {
     "name": "stdout",
     "output_type": "stream",
     "text": [
      "Downloaded 4590 matches\n"
     ]
    }
   ],
   "source": [
    "SEASON_START = 2010\n",
    "SEASON_END = 2024\n",
    "\n",
    "matches = []\n",
    "for season in trange(SEASON_START, SEASON_END + 1):\n",
    "    response = requests.get(f\"https://api.openligadb.de/getmatchdata/bl1/{season}\")\n",
    "    matches += response.json()\n",
    "\n",
    "with open(\"data/matches.json\", \"w\") as file:\n",
    "    file.write(json.dumps(matches))\n",
    "\n",
    "print(f\"Downloaded {len(matches)} matches\")\n",
    "del matches"
   ]
  },
  {
   "cell_type": "markdown",
   "metadata": {},
   "source": [
    "### Download tables"
   ]
  },
  {
   "cell_type": "code",
   "execution_count": 3,
   "metadata": {},
   "outputs": [
    {
     "data": {
      "application/vnd.jupyter.widget-view+json": {
       "model_id": "b8d815e3771a4999bfd36e082f3a90cd",
       "version_major": 2,
       "version_minor": 0
      },
      "text/plain": [
       "  0%|          | 0/15 [00:00<?, ?it/s]"
      ]
     },
     "metadata": {},
     "output_type": "display_data"
    }
   ],
   "source": [
    "tables = {}\n",
    "for season in trange(SEASON_START, SEASON_END + 1):\n",
    "    response = requests.get(f\"https://api.openligadb.de/getbltable/bl1/{season}\")\n",
    "    tables[str(season)] = response.json()\n",
    "\n",
    "\n",
    "with open(\"data/tables.json\", \"w\") as file:\n",
    "    file.write(json.dumps(tables))\n",
    "\n",
    "del tables"
   ]
  },
  {
   "cell_type": "markdown",
   "metadata": {},
   "source": [
    "## Prepare Dataset"
   ]
  },
  {
   "cell_type": "markdown",
   "metadata": {},
   "source": [
    "### Matches"
   ]
  },
  {
   "cell_type": "code",
   "execution_count": 4,
   "metadata": {},
   "outputs": [
    {
     "data": {
      "text/html": [
       "<div>\n",
       "<style scoped>\n",
       "    .dataframe tbody tr th:only-of-type {\n",
       "        vertical-align: middle;\n",
       "    }\n",
       "\n",
       "    .dataframe tbody tr th {\n",
       "        vertical-align: top;\n",
       "    }\n",
       "\n",
       "    .dataframe thead th {\n",
       "        text-align: right;\n",
       "    }\n",
       "</style>\n",
       "<table border=\"1\" class=\"dataframe\">\n",
       "  <thead>\n",
       "    <tr style=\"text-align: right;\">\n",
       "      <th></th>\n",
       "      <th>match_day</th>\n",
       "      <th>season</th>\n",
       "      <th>host_id</th>\n",
       "      <th>host_name</th>\n",
       "      <th>guest_id</th>\n",
       "      <th>guest_name</th>\n",
       "      <th>host_goals</th>\n",
       "      <th>guest_goals</th>\n",
       "    </tr>\n",
       "    <tr>\n",
       "      <th>id</th>\n",
       "      <th></th>\n",
       "      <th></th>\n",
       "      <th></th>\n",
       "      <th></th>\n",
       "      <th></th>\n",
       "      <th></th>\n",
       "      <th></th>\n",
       "      <th></th>\n",
       "    </tr>\n",
       "  </thead>\n",
       "  <tbody>\n",
       "    <tr>\n",
       "      <th>72518</th>\n",
       "      <td>34</td>\n",
       "      <td>2024</td>\n",
       "      <td>87</td>\n",
       "      <td>Gladbach</td>\n",
       "      <td>131</td>\n",
       "      <td>Wolfsburg</td>\n",
       "      <td>NaN</td>\n",
       "      <td>NaN</td>\n",
       "    </tr>\n",
       "    <tr>\n",
       "      <th>72519</th>\n",
       "      <td>34</td>\n",
       "      <td>2024</td>\n",
       "      <td>98</td>\n",
       "      <td>St. Pauli</td>\n",
       "      <td>129</td>\n",
       "      <td>Bochum</td>\n",
       "      <td>NaN</td>\n",
       "      <td>NaN</td>\n",
       "    </tr>\n",
       "  </tbody>\n",
       "</table>\n",
       "</div>"
      ],
      "text/plain": [
       "       match_day  season  host_id  host_name  guest_id guest_name  host_goals  \\\n",
       "id                                                                              \n",
       "72518         34    2024       87   Gladbach       131  Wolfsburg         NaN   \n",
       "72519         34    2024       98  St. Pauli       129     Bochum         NaN   \n",
       "\n",
       "       guest_goals  \n",
       "id                  \n",
       "72518          NaN  \n",
       "72519          NaN  "
      ]
     },
     "execution_count": 4,
     "metadata": {},
     "output_type": "execute_result"
    }
   ],
   "source": [
    "import pandas as pd\n",
    "\n",
    "with open(\"data/matches.json\", \"r\") as file:\n",
    "    matches = json.load(file)\n",
    "\n",
    "\n",
    "def retrieve_end_result(row: dict):\n",
    "    results = row[\"matchResults\"]\n",
    "    end_result = next(\n",
    "        (result for result in results if result.get(\"resultName\") == \"Endergebnis\"),\n",
    "        None,\n",
    "    )\n",
    "\n",
    "    if end_result is None:\n",
    "        raise ValueError(f\"Couldn't retrieve end result for {row}\")\n",
    "\n",
    "    return end_result\n",
    "\n",
    "\n",
    "def match_to_record(row):\n",
    "    record = {\n",
    "        \"id\": row[\"matchID\"],\n",
    "        \"match_day\": row[\"group\"][\"groupOrderID\"],\n",
    "        \"season\": row[\"leagueSeason\"],\n",
    "        \"host_id\": row[\"team1\"][\"teamId\"],\n",
    "        \"host_name\": row[\"team1\"][\"shortName\"] or row[\"team1\"][\"teamName\"],\n",
    "        \"guest_id\": row[\"team2\"][\"teamId\"],\n",
    "        \"guest_name\": row[\"team2\"][\"shortName\"] or row[\"team2\"][\"teamName\"],\n",
    "    }\n",
    "    if row[\"leagueSeason\"] != 2024:\n",
    "        result = retrieve_end_result(row)\n",
    "        record[\"host_goals\"] = result[\"pointsTeam1\"]\n",
    "        record[\"guest_goals\"] = result[\"pointsTeam2\"]\n",
    "    else:\n",
    "        try:\n",
    "            result = retrieve_end_result(row)\n",
    "            record[\"host_goals\"] = result[\"pointsTeam1\"]\n",
    "            record[\"guest_goals\"] = result[\"pointsTeam2\"]\n",
    "        except ValueError:\n",
    "            record[\"host_goals\"] = None\n",
    "            record[\"guest_goals\"] = None\n",
    "\n",
    "    return record\n",
    "\n",
    "\n",
    "records = [match_to_record(match) for match in matches]\n",
    "del matches\n",
    "df_matches = pd.DataFrame.from_records(records)\n",
    "df_matches = df_matches.set_index(\"id\")\n",
    "df_matches.tail(2)"
   ]
  },
  {
   "cell_type": "code",
   "execution_count": 5,
   "metadata": {},
   "outputs": [],
   "source": [
    "# Replace long team name with shorter one\n",
    "df_matches.loc[df_matches[\"host_name\"] == \"TSG 1899 Hoffenheim\", \"host_name\"] = \"Hoffenheim\"\n",
    "df_matches.loc[df_matches[\"guest_name\"] == \"TSG 1899 Hoffenheim\", \"guest_name\"] = \"Hoffenheim\""
   ]
  },
  {
   "cell_type": "markdown",
   "metadata": {},
   "source": [
    "### Tables / Teams"
   ]
  },
  {
   "cell_type": "code",
   "execution_count": 6,
   "metadata": {},
   "outputs": [
    {
     "data": {
      "text/html": [
       "<div>\n",
       "<style scoped>\n",
       "    .dataframe tbody tr th:only-of-type {\n",
       "        vertical-align: middle;\n",
       "    }\n",
       "\n",
       "    .dataframe tbody tr th {\n",
       "        vertical-align: top;\n",
       "    }\n",
       "\n",
       "    .dataframe thead th {\n",
       "        text-align: right;\n",
       "    }\n",
       "</style>\n",
       "<table border=\"1\" class=\"dataframe\">\n",
       "  <thead>\n",
       "    <tr style=\"text-align: right;\">\n",
       "      <th>feature</th>\n",
       "      <th>team</th>\n",
       "      <th>year</th>\n",
       "      <th>draws</th>\n",
       "      <th>goal_diff</th>\n",
       "      <th>goals</th>\n",
       "      <th>defeats</th>\n",
       "      <th>matches</th>\n",
       "      <th>opponent_goals</th>\n",
       "      <th>points</th>\n",
       "      <th>wins</th>\n",
       "    </tr>\n",
       "  </thead>\n",
       "  <tbody>\n",
       "    <tr>\n",
       "      <th>267</th>\n",
       "      <td>1635</td>\n",
       "      <td>2022</td>\n",
       "      <td>6</td>\n",
       "      <td>23</td>\n",
       "      <td>64</td>\n",
       "      <td>8</td>\n",
       "      <td>34</td>\n",
       "      <td>41</td>\n",
       "      <td>66</td>\n",
       "      <td>20</td>\n",
       "    </tr>\n",
       "    <tr>\n",
       "      <th>268</th>\n",
       "      <td>1635</td>\n",
       "      <td>2023</td>\n",
       "      <td>8</td>\n",
       "      <td>38</td>\n",
       "      <td>77</td>\n",
       "      <td>7</td>\n",
       "      <td>34</td>\n",
       "      <td>39</td>\n",
       "      <td>65</td>\n",
       "      <td>19</td>\n",
       "    </tr>\n",
       "    <tr>\n",
       "      <th>269</th>\n",
       "      <td>1635</td>\n",
       "      <td>2024</td>\n",
       "      <td>1</td>\n",
       "      <td>2</td>\n",
       "      <td>4</td>\n",
       "      <td>0</td>\n",
       "      <td>3</td>\n",
       "      <td>2</td>\n",
       "      <td>7</td>\n",
       "      <td>2</td>\n",
       "    </tr>\n",
       "  </tbody>\n",
       "</table>\n",
       "</div>"
      ],
      "text/plain": [
       "feature  team  year  draws  goal_diff  goals  defeats  matches  \\\n",
       "267      1635  2022      6         23     64        8       34   \n",
       "268      1635  2023      8         38     77        7       34   \n",
       "269      1635  2024      1          2      4        0        3   \n",
       "\n",
       "feature  opponent_goals  points  wins  \n",
       "267                  41      66    20  \n",
       "268                  39      65    19  \n",
       "269                   2       7     2  "
      ]
     },
     "execution_count": 6,
     "metadata": {},
     "output_type": "execute_result"
    }
   ],
   "source": [
    "with open(\"data/tables.json\", \"r\") as file:\n",
    "    tables = json.load(file)\n",
    "\n",
    "columns = [\"points\", \"opponentGoals\", \"goals\", \"matches\", \"won\", \"lost\", \"draw\", \"goalDiff\"]\n",
    "\n",
    "team_rows = [\n",
    "    [col, year, team[\"teamInfoId\"], team[col]]\n",
    "    for year, teams in tables.items()\n",
    "    for team in teams\n",
    "    for col in columns\n",
    "]\n",
    "\n",
    "df_teams = pd.DataFrame(team_rows, columns=[\"feature\", \"year\", \"team\", \"value\"])\n",
    "del team_rows\n",
    "df_teams = df_teams.groupby([\"team\", \"year\", \"feature\"]).sum()[\"value\"].reset_index()\n",
    "df_teams = pd.pivot_table(df_teams, values=\"value\", index=[\"team\", \"year\"], columns=\"feature\")\n",
    "df_teams = df_teams.rename(\n",
    "    columns={\n",
    "        \"draw\": \"draws\",\n",
    "        \"won\": \"wins\",\n",
    "        \"lost\": \"defeats\",\n",
    "        \"goalDiff\": \"goal_diff\",\n",
    "        \"opponentGoals\": \"opponent_goals\",\n",
    "    }\n",
    ")\n",
    "df_teams = df_teams.reset_index()\n",
    "df_teams = df_teams.astype(int)\n",
    "df_teams.tail(3)"
   ]
  },
  {
   "cell_type": "code",
   "execution_count": 7,
   "metadata": {},
   "outputs": [],
   "source": [
    "df_matches.to_pickle(\"data/df_matches.pickle\")\n",
    "df_teams.to_pickle(\"data/df_teams.pickle\")"
   ]
  }
 ],
 "metadata": {
  "kernelspec": {
   "display_name": ".env",
   "language": "python",
   "name": "python3"
  },
  "language_info": {
   "codemirror_mode": {
    "name": "ipython",
    "version": 3
   },
   "file_extension": ".py",
   "mimetype": "text/x-python",
   "name": "python",
   "nbconvert_exporter": "python",
   "pygments_lexer": "ipython3",
   "version": "3.12.6"
  }
 },
 "nbformat": 4,
 "nbformat_minor": 2
}
